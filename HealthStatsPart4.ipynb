{
 "cells": [
  {
   "cell_type": "markdown",
   "metadata": {},
   "source": [
    "# Health Stats Part 3: Waist 2 Hip Ratios"
   ]
  },
  {
   "cell_type": "markdown",
   "metadata": {},
   "source": [
    "<!--- Write an explanation of the Waist To Hips Ratio statistic used by health professionals. Please include an explanation of what it is used for, exactly how it is calculated, and how to interpret the results. Note: Formmatting matters. Make this as professional as you can using Markdown.  --->\n",
    "EDIT THIS MARKDOWN CELL"
   ]
  },
  {
   "cell_type": "markdown",
   "metadata": {},
   "source": [
    "## Source Data "
   ]
  },
  {
   "cell_type": "markdown",
   "metadata": {},
   "source": [
    "<!--- Replace the text below with a Markdown bullet list that defines the columns of the CSV file. Be sure to indicate the data type for each column. --->\n",
    "EDIT THIS MARKDOWN CELL"
   ]
  },
  {
   "cell_type": "markdown",
   "metadata": {},
   "source": [
    "## Data Import"
   ]
  },
  {
   "cell_type": "code",
   "execution_count": 1,
   "metadata": {
    "collapsed": true
   },
   "outputs": [],
   "source": [
    "# Goal: Extract the data from the file\n",
    "import numpy as np\n",
    "import pandas as pd\n",
    "\n",
    "#bring in the file\n",
    "rows = pd.read_csv('w2h_data.csv', dtype = {'ID': np.int32,'Waist': np.int32, 'Hip': np.int32, 'Gender': np.str})\n",
    "#check it\n",
    "#print(health)\n",
    "#SFSG\n",
    "\n",
    "#convert that stuff to DataFrame\n",
    "#health1 = pd.DataFrame(health)\n",
    "#check it\n",
    "#print(health)\n",
    "#rows = np.genfromtxt('w2h_data.csv',delimiter=',',names=True,dtype=[int,float,float,'U1'])"
   ]
  },
  {
   "cell_type": "markdown",
   "metadata": {},
   "source": [
    "## Calculations"
   ]
  },
  {
   "cell_type": "code",
   "execution_count": 2,
   "metadata": {
    "scrolled": true
   },
   "outputs": [
    {
     "name": "stdout",
     "output_type": "stream",
     "text": [
      "0      True\n",
      "1     False\n",
      "2     False\n",
      "3     False\n",
      "4     False\n",
      "5     False\n",
      "6     False\n",
      "7     False\n",
      "8     False\n",
      "9     False\n",
      "10    False\n",
      "11    False\n",
      "12    False\n",
      "13    False\n",
      "14    False\n",
      "15    False\n",
      "16    False\n",
      "17    False\n",
      "18    False\n",
      "19    False\n",
      "dtype: bool\n",
      "    ID  Waist  Hip Gender  W2H Ratio Shapes\n",
      "0    1     30   32      M   0.937500  Apple\n",
      "1    2     32   37      M   0.864865   Pear\n",
      "2    3     30   36      M   0.833333   Pear\n",
      "3    4     33   39      M   0.846154   Pear\n",
      "4    5     29   33      M   0.878788   Pear\n",
      "5    6     32   38      M   0.842105   Pear\n",
      "6    7     33   42      M   0.785714   Pear\n",
      "7    8     30   40      M   0.750000   Pear\n",
      "8    9     30   37      M   0.810811   Pear\n",
      "9   10     32   39      M   0.820513   Pear\n",
      "10  11     24   35      F   0.685714   Pear\n",
      "11  12     25   37      F   0.675676   Pear\n",
      "12  13     24   37      F   0.648649   Pear\n",
      "13  14     22   34      F   0.647059   Pear\n",
      "14  15     26   38      F   0.684211   Pear\n",
      "15  16     26   37      F   0.702703   Pear\n",
      "16  17     25   38      F   0.657895   Pear\n",
      "17  18     26   37      F   0.702703   Pear\n",
      "18  19     28   40      F   0.700000   Pear\n",
      "19  20     23   35      F   0.657143   Pear\n"
     ]
    }
   ],
   "source": [
    "# Goal: For each row of data calculate and store the w2h_ratio and shape.\n",
    "#w2h = health.loc[\"Waist\"/\"Hip\"]\n",
    "#print(w2h)\n",
    "\n",
    "\n",
    "\n",
    "\n",
    "\n",
    "# calculate the waist to hips ratios\n",
    "w2h_ratios = rows['Waist']/rows['Hip']\n",
    "#print(w2h_ratios)\n",
    "#SGSF\n",
    "# determine who is male (True) or female (False)\n",
    "males = (rows['Gender']=='M')\n",
    "#print(males)\n",
    "#SGSF\n",
    "# males with w2h ration > 0.9 are apple shaped\n",
    "male_apples = np.logical_and((w2h_ratios>0.9),males)\n",
    "print(male_apples)\n",
    "# females with w2h ratio > 0.8 are apple shaped\n",
    "female_apples = np.logical_and((w2h_ratios>0.8),np.logical_not(males))\n",
    "\n",
    "# combines the male_apples and female_apples\n",
    "apples=np.logical_or(male_apples,female_apples)\n",
    "\n",
    "# works like an if then else statement\n",
    "shapes=np.where(apples,'Apple','Pear')\n",
    "\n",
    "    \n",
    "# add the two new columns\n",
    "#results['W2H Ratio']=w2h_ratios\n",
    "#results['Shape']=shapes\n",
    "rows['W2H Ratio'] = w2h_ratios\n",
    "#print(rows)\n",
    "rows['Shapes'] = shapes\n",
    "print(rows)"
   ]
  },
  {
   "cell_type": "markdown",
   "metadata": {},
   "source": [
    "## Output"
   ]
  },
  {
   "cell_type": "raw",
   "metadata": {},
   "source": [
    "# Goal: pretty print the rows as an HTML table\n",
    "\n",
    "\n",
    "\n",
    "\n",
    "# Note: this works, but we can do this much better with pandas\n",
    "html_table = '<table><tr><th>'\n",
    "html_table += \"</th><th>\".join(rows.columns.values)\n",
    "html_table += '</th></tr>'\n",
    "for row in results:\n",
    "    html_table += \"<tr><td>\"\n",
    "    html_table += \"</td><td>\".join(str(v) for v in row)\n",
    "    html_table += \"</td></tr>\"\n",
    "html_table += \"</table>\"\n",
    "\n",
    "from IPython.display import HTML, display\n",
    "display(HTML(html_table))\n",
    "rows.to_html('StatsResults.html')\n",
    "# Export to \"StatsResults.csv\"\n",
    "#np.savetxt(\"StatsResults.csv\",results,fmt='%s',delimiter=',',header=','.join(results.dtype.names),comments=\"\")"
   ]
  },
  {
   "cell_type": "code",
   "execution_count": null,
   "metadata": {
    "collapsed": true
   },
   "outputs": [],
   "source": []
  },
  {
   "cell_type": "code",
   "execution_count": null,
   "metadata": {
    "collapsed": true
   },
   "outputs": [],
   "source": []
  }
 ],
 "metadata": {
  "kernelspec": {
   "display_name": "Python 3",
   "language": "python",
   "name": "python3"
  },
  "language_info": {
   "codemirror_mode": {
    "name": "ipython",
    "version": 3
   },
   "file_extension": ".py",
   "mimetype": "text/x-python",
   "name": "python",
   "nbconvert_exporter": "python",
   "pygments_lexer": "ipython3",
   "version": "3.6.1"
  }
 },
 "nbformat": 4,
 "nbformat_minor": 2
}
